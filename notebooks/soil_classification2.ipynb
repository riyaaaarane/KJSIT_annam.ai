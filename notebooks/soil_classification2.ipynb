{
  "metadata": {
    "kernelspec": {
      "language": "python",
      "display_name": "Python 3",
      "name": "python3"
    },
    "language_info": {
      "name": "python",
      "version": "3.11.11",
      "mimetype": "text/x-python",
      "codemirror_mode": {
        "name": "ipython",
        "version": 3
      },
      "pygments_lexer": "ipython3",
      "nbconvert_exporter": "python",
      "file_extension": ".py"
    },
    "kaggle": {
      "accelerator": "none",
      "dataSources": [
        {
          "sourceId": 102966,
          "databundleVersionId": 12412856,
          "sourceType": "competition"
        }
      ],
      "dockerImageVersionId": 31040,
      "isInternetEnabled": false,
      "language": "python",
      "sourceType": "notebook",
      "isGpuEnabled": false
    },
    "colab": {
      "name": "soil_classification2",
      "provenance": []
    }
  },
  "nbformat_minor": 0,
  "nbformat": 4,
  "cells": [
    {
      "source": [
        "# IMPORTANT: SOME KAGGLE DATA SOURCES ARE PRIVATE\n",
        "# RUN THIS CELL IN ORDER TO IMPORT YOUR KAGGLE DATA SOURCES.\n",
        "import kagglehub\n",
        "kagglehub.login()\n"
      ],
      "metadata": {
        "id": "uaJFcgdExkhm"
      },
      "cell_type": "code",
      "outputs": [],
      "execution_count": null
    },
    {
      "source": [
        "# IMPORTANT: RUN THIS CELL IN ORDER TO IMPORT YOUR KAGGLE DATA SOURCES,\n",
        "# THEN FEEL FREE TO DELETE THIS CELL.\n",
        "# NOTE: THIS NOTEBOOK ENVIRONMENT DIFFERS FROM KAGGLE'S PYTHON\n",
        "# ENVIRONMENT SO THERE MAY BE MISSING LIBRARIES USED BY YOUR\n",
        "# NOTEBOOK.\n",
        "\n",
        "soil_classification_part_2_path = kagglehub.competition_download('soil-classification-part-2')\n",
        "\n",
        "print('Data source import complete.')\n"
      ],
      "metadata": {
        "id": "KGZ0H9Ltxkhp"
      },
      "cell_type": "code",
      "outputs": [],
      "execution_count": null
    },
    {
      "cell_type": "code",
      "source": [
        "# This Python 3 environment comes with many helpful analytics libraries installed\n",
        "# It is defined by the kaggle/python Docker image: https://github.com/kaggle/docker-python\n",
        "# For example, here's several helpful packages to load\n",
        "\n",
        "import numpy as np # linear algebra\n",
        "import pandas as pd # data processing, CSV file I/O (e.g. pd.read_csv)\n",
        "\n",
        "# Input data files are available in the read-only \"../input/\" directory\n",
        "# For example, running this (by clicking run or pressing Shift+Enter) will list all files under the input directory\n",
        "\n",
        "import os\n",
        "for dirname, _, filenames in os.walk('/kaggle/input/soil-classification-part-2/soil_competition-2025/test'):\n",
        "    for filename in filenames:\n",
        "        print(os.path.join(dirname, filename))\n",
        "\n",
        "# You can write up to 20GB to the current directory (/kaggle/working/) that gets preserved as output when you create a version using \"Save & Run All\"\n",
        "# You can also write temporary files to /kaggle/temp/, but they won't be saved outside of the current session"
      ],
      "metadata": {
        "_uuid": "8f2839f25d086af736a60e9eeb907d3b93b6e0e5",
        "_cell_guid": "b1076dfc-b9ad-4769-8c92-a6c4dae69d19",
        "trusted": true,
        "execution": {
          "iopub.status.busy": "2025-05-23T21:06:11.113772Z",
          "iopub.execute_input": "2025-05-23T21:06:11.114084Z",
          "iopub.status.idle": "2025-05-23T21:06:14.440576Z",
          "shell.execute_reply.started": "2025-05-23T21:06:11.114051Z",
          "shell.execute_reply": "2025-05-23T21:06:14.439281Z"
        },
        "collapsed": true,
        "jupyter": {
          "outputs_hidden": true
        },
        "id": "bSRxIkN_xkht"
      },
      "outputs": [],
      "execution_count": null
    },
    {
      "cell_type": "code",
      "source": [
        "# Importing libraries\n",
        "import os\n",
        "import numpy as np\n",
        "import pandas as pd\n",
        "import matplotlib.pyplot as plt\n",
        "from PIL import Image\n",
        "import cv2\n",
        "from tqdm import tqdm\n",
        "from sklearn.metrics import classification_report\n",
        "from sklearn.utils.class_weight import compute_class_weight\n",
        "from sklearn.model_selection import train_test_split\n",
        "from tensorflow.keras.preprocessing.image import ImageDataGenerator\n",
        "from tensorflow.keras.models import Sequential\n",
        "from tensorflow.keras.layers import Conv2D, MaxPooling2D, Flatten, Dense, Dropout\n",
        "from tensorflow.keras.optimizers import Adam\n",
        "from tensorflow.keras.callbacks import EarlyStopping\n",
        "import seaborn as sns"
      ],
      "metadata": {
        "trusted": true,
        "execution": {
          "iopub.status.busy": "2025-05-24T22:12:47.107579Z",
          "iopub.execute_input": "2025-05-24T22:12:47.10793Z",
          "iopub.status.idle": "2025-05-24T22:12:47.550735Z",
          "shell.execute_reply.started": "2025-05-24T22:12:47.107909Z",
          "shell.execute_reply": "2025-05-24T22:12:47.549483Z"
        },
        "id": "FFguF1S7xkhz"
      },
      "outputs": [],
      "execution_count": null
    },
    {
      "cell_type": "markdown",
      "source": [
        "**LOADING DATASETS AND DATA PREPROCESSING**"
      ],
      "metadata": {
        "id": "9lDaodmXxkh1"
      }
    },
    {
      "cell_type": "code",
      "source": [
        "# Loading Datasets\n",
        "soil_img_dir = \"/kaggle/input/soil-classification-part-2/soil_competition-2025/train\"\n",
        "soil_labels_path = \"/kaggle/input/soil-classification-part-2/soil_competition-2025/train_labels.csv\"\n",
        "generated_not_soil_dir = \"/kaggle/working/generated_not_soil\"\n",
        "img_size = (224, 224)\n",
        "batch_size = 32\n",
        "\n",
        "# Generating Synthetic \"Not Soil\" Images\n",
        "def generate_non_soil_images(save_dir, num_images=500, size=(224, 224)):\n",
        "    os.makedirs(save_dir, exist_ok=True)\n",
        "    for i in tqdm(range(num_images), desc=\"Generating non-soil images\"):\n",
        "        img = np.zeros((size[0], size[1], 3), dtype=np.uint8)\n",
        "        pattern = np.random.choice([\"noise\", \"stripes\", \"grid\", \"gradient\", \"blobs\"])\n",
        "\n",
        "        if pattern == \"noise\":\n",
        "            img = np.random.randint(0, 256, img.shape, dtype=np.uint8)\n",
        "\n",
        "        elif pattern == \"stripes\":\n",
        "            c1, c2 = np.random.randint(0, 256, 3), np.random.randint(0, 256, 3)\n",
        "            w = np.random.randint(5, 20)\n",
        "            for y in range(0, size[1], 2*w):\n",
        "                img[:, y:y+w] = c1\n",
        "                img[:, y+w:y+2*w] = c2\n",
        "\n",
        "        elif pattern == \"grid\":\n",
        "            color = np.random.randint(0, 256, 3)\n",
        "            spacing = np.random.randint(10, 30)\n",
        "            img[:] = 255\n",
        "            for x in range(0, size[0], spacing): img[x:x+2, :] = color\n",
        "            for y in range(0, size[1], spacing): img[:, y:y+2] = color\n",
        "\n",
        "        elif pattern == \"gradient\":\n",
        "            for i in range(3):\n",
        "                lin = np.linspace(0, 255, size[0])\n",
        "                grad = np.tile(lin, (size[1], 1)).T\n",
        "                img[..., i] = grad.astype(np.uint8)\n",
        "\n",
        "        elif pattern == \"blobs\":\n",
        "            img[:] = np.random.randint(0, 50, 3)\n",
        "            for _ in range(np.random.randint(5, 20)):\n",
        "                x, y = np.random.randint(0, size[0]), np.random.randint(0, size[1])\n",
        "                r = np.random.randint(10, 50)\n",
        "                color = np.random.randint(100, 255, 3).tolist()\n",
        "                cv2.circle(img, (x, y), r, color, -1)\n",
        "\n",
        "        Image.fromarray(img).save(os.path.join(save_dir, f\"nonsoil_{i}.jpg\"))\n",
        "\n",
        "generate_non_soil_images(generated_not_soil_dir, num_images=500)"
      ],
      "metadata": {
        "trusted": true,
        "execution": {
          "iopub.status.busy": "2025-05-24T22:14:01.104972Z",
          "iopub.execute_input": "2025-05-24T22:14:01.105642Z",
          "iopub.status.idle": "2025-05-24T22:14:01.740699Z",
          "shell.execute_reply.started": "2025-05-24T22:14:01.105613Z",
          "shell.execute_reply": "2025-05-24T22:14:01.739794Z"
        },
        "id": "-xWt4Apkxkh3"
      },
      "outputs": [],
      "execution_count": null
    },
    {
      "cell_type": "code",
      "source": [
        "# Load Soil Labels\n",
        "soil_df = pd.read_csv(soil_labels_path)\n",
        "soil_df[\"label\"] = 1\n",
        "soil_df[\"full_path\"] = soil_df[\"image_id\"].apply(lambda x: os.path.join(soil_img_dir, x))\n",
        "\n",
        "# Create \"Not Soil\" Labels\n",
        "non_soil_files = os.listdir(generated_not_soil_dir)\n",
        "non_soil_df = pd.DataFrame({\n",
        "    \"image_id\": non_soil_files,\n",
        "    \"label\": 0,\n",
        "    \"full_path\": [os.path.join(generated_not_soil_dir, fname) for fname in non_soil_files]\n",
        "})"
      ],
      "metadata": {
        "trusted": true,
        "execution": {
          "iopub.status.busy": "2025-05-24T22:14:20.307957Z",
          "iopub.execute_input": "2025-05-24T22:14:20.308306Z",
          "iopub.status.idle": "2025-05-24T22:14:20.350114Z",
          "shell.execute_reply.started": "2025-05-24T22:14:20.308286Z",
          "shell.execute_reply": "2025-05-24T22:14:20.349154Z"
        },
        "id": "Q6CY1SxCxkh4"
      },
      "outputs": [],
      "execution_count": null
    },
    {
      "cell_type": "code",
      "source": [
        "# Combining Dataset\n",
        "full_df = pd.concat([soil_df[[\"image_id\", \"label\", \"full_path\"]], non_soil_df], ignore_index=True)\n",
        "\n",
        "# Spliting Data\n",
        "train_df, val_df = train_test_split(full_df, test_size=0.2, stratify=full_df[\"label\"], random_state=42)\n",
        "\n",
        "# Class Weights\n",
        "class_weights_array = compute_class_weight(class_weight='balanced', classes=np.unique(train_df['label']), y=train_df['label'])\n",
        "class_weights = dict(enumerate(class_weights_array))\n",
        "\n",
        "# Image Data Generators\n",
        "train_datagen = ImageDataGenerator(rescale=1./255, zoom_range=0.2, horizontal_flip=True)\n",
        "val_datagen = ImageDataGenerator(rescale=1./255)\n",
        "\n",
        "train_df['label'] = train_df['label'].astype(str)\n",
        "val_df['label'] = val_df['label'].astype(str)\n",
        "\n",
        "train_gen = train_datagen.flow_from_dataframe(\n",
        "    train_df,\n",
        "    x_col='full_path',\n",
        "    y_col='label',\n",
        "    target_size=img_size,\n",
        "    class_mode='binary',\n",
        "    batch_size=batch_size,\n",
        "    shuffle=True\n",
        ")\n",
        "\n",
        "val_gen = val_datagen.flow_from_dataframe(\n",
        "    val_df,\n",
        "    x_col='full_path',\n",
        "    y_col='label',\n",
        "    target_size=img_size,\n",
        "    class_mode='binary',\n",
        "    batch_size=batch_size,\n",
        "    shuffle=False\n",
        ")"
      ],
      "metadata": {
        "trusted": true,
        "execution": {
          "iopub.status.busy": "2025-05-24T22:15:07.800931Z",
          "iopub.execute_input": "2025-05-24T22:15:07.801625Z",
          "iopub.status.idle": "2025-05-24T22:15:12.543926Z",
          "shell.execute_reply.started": "2025-05-24T22:15:07.801569Z",
          "shell.execute_reply": "2025-05-24T22:15:12.542891Z"
        },
        "id": "6PMxen_Cxkh5"
      },
      "outputs": [],
      "execution_count": null
    },
    {
      "cell_type": "markdown",
      "source": [
        "**CNN MODEL**"
      ],
      "metadata": {
        "id": "UgxgEZwwxkh6"
      }
    },
    {
      "cell_type": "code",
      "source": [
        "# Building CNN model\n",
        "model = Sequential([\n",
        "    Conv2D(32, (3, 3), activation='relu', input_shape=(224, 224, 3)),\n",
        "    MaxPooling2D(2, 2),\n",
        "    Conv2D(64, (3, 3), activation='relu'),\n",
        "    MaxPooling2D(2, 2),\n",
        "    Flatten(),\n",
        "    Dense(128, activation='relu'),\n",
        "    Dropout(0.5),\n",
        "    Dense(1, activation='sigmoid')\n",
        "])\n",
        "\n",
        "model.compile(optimizer=Adam(), loss='binary_crossentropy', metrics=['accuracy'])"
      ],
      "metadata": {
        "trusted": true,
        "execution": {
          "iopub.status.busy": "2025-05-24T22:15:58.341313Z",
          "iopub.execute_input": "2025-05-24T22:15:58.341685Z",
          "iopub.status.idle": "2025-05-24T22:15:58.735453Z",
          "shell.execute_reply.started": "2025-05-24T22:15:58.341663Z",
          "shell.execute_reply": "2025-05-24T22:15:58.734575Z"
        },
        "id": "YXHYW1Rfxkh7"
      },
      "outputs": [],
      "execution_count": null
    },
    {
      "cell_type": "code",
      "source": [
        "# Training the CNN model\n",
        "early_stop = EarlyStopping(patience=3, restore_best_weights=True)\n",
        "\n",
        "history = model.fit(\n",
        "    train_gen,\n",
        "    validation_data=val_gen,\n",
        "    epochs=10,\n",
        "    class_weight=class_weights,\n",
        "    callbacks=[early_stop]\n",
        ")"
      ],
      "metadata": {
        "trusted": true,
        "execution": {
          "iopub.status.busy": "2025-05-24T22:16:05.195215Z",
          "iopub.execute_input": "2025-05-24T22:16:05.195549Z",
          "iopub.status.idle": "2025-05-24T22:29:54.062006Z",
          "shell.execute_reply.started": "2025-05-24T22:16:05.195528Z",
          "shell.execute_reply": "2025-05-24T22:29:54.060998Z"
        },
        "id": "WDJpfr-bxkh8"
      },
      "outputs": [],
      "execution_count": null
    },
    {
      "cell_type": "markdown",
      "source": [
        "**PREDICTIONS**"
      ],
      "metadata": {
        "id": "YYASum2Vxkh8"
      }
    },
    {
      "cell_type": "code",
      "source": [
        "# Evaluation with F1 Score\n",
        "#Predicting on validation set\n",
        "val_preds = model.predict(val_gen)\n",
        "y_pred = (val_preds > 0.5).astype(int).flatten()\n",
        "y_true = val_gen.classes\n",
        "\n",
        "report = classification_report(y_true, y_pred, target_names=['Not Soil', 'Soil'], output_dict=True)\n",
        "f1_soil = report[\"Soil\"][\"f1-score\"]\n",
        "f1_not_soil = report[\"Not Soil\"][\"f1-score\"]\n",
        "min_f1 = min(f1_soil, f1_not_soil)\n",
        "\n",
        "print(\"F1 Scores:\")\n",
        "print(\"Soil       :\", round(f1_soil, 4))\n",
        "print(\"Not Soil   :\", round(f1_not_soil, 4))\n",
        "print(\"Minimum F1 :\", round(min_f1, 4))"
      ],
      "metadata": {
        "trusted": true,
        "execution": {
          "iopub.status.busy": "2025-05-24T22:30:02.506341Z",
          "iopub.execute_input": "2025-05-24T22:30:02.5067Z",
          "iopub.status.idle": "2025-05-24T22:30:08.882289Z",
          "shell.execute_reply.started": "2025-05-24T22:30:02.506676Z",
          "shell.execute_reply": "2025-05-24T22:30:08.880906Z"
        },
        "id": "D17-Fzc6xkh9"
      },
      "outputs": [],
      "execution_count": null
    },
    {
      "cell_type": "code",
      "source": [
        "#Confusion Matrix\n",
        "from sklearn.metrics import confusion_matrix, classification_report, f1_score\n",
        "conf_matrix = confusion_matrix(y_true, y_pred)\n",
        "\n",
        "plt.figure(figsize=(6, 4))\n",
        "sns.heatmap(conf_matrix, annot=True, fmt='d', cmap='Blues',\n",
        "            xticklabels=['Non-soil', 'Soil'],\n",
        "            yticklabels=['Non-soil', 'Soil'])\n",
        "plt.xlabel(\"Predicted\")\n",
        "plt.ylabel(\"Actual\")\n",
        "plt.title(\"Confusion Matrix\")\n",
        "plt.tight_layout()\n",
        "plt.show()"
      ],
      "metadata": {
        "trusted": true,
        "execution": {
          "iopub.status.busy": "2025-05-24T22:30:11.715213Z",
          "iopub.execute_input": "2025-05-24T22:30:11.715537Z",
          "iopub.status.idle": "2025-05-24T22:30:11.905134Z",
          "shell.execute_reply.started": "2025-05-24T22:30:11.715515Z",
          "shell.execute_reply": "2025-05-24T22:30:11.903815Z"
        },
        "id": "1_QqO9c3xkh-"
      },
      "outputs": [],
      "execution_count": null
    },
    {
      "cell_type": "code",
      "source": [
        "#Predicting on test data\n",
        "test_dir = \"/kaggle/input/soil-classification-part-2/soil_competition-2025/test\"\n",
        "test_csv = \"/kaggle/input/soil-classification-part-2/soil_competition-2025/test_ids.csv\"\n",
        "sample_submission_path = \"/kaggle/input/soil-classification-part-2/soil_competition-2025/sample_submission.csv\"\n",
        "\n",
        "\n",
        "test_df = pd.read_csv(test_csv)\n",
        "test_df['full_path'] = test_df['image_id'].apply(lambda x: os.path.join(test_dir, x))\n",
        "test_df['label'] = '0'  # Dummy label required for flow_from_dataframe\n",
        "\n",
        "#Creating Test Generator\n",
        "img_size = (224, 224)\n",
        "batch_size = 32\n",
        "\n",
        "test_datagen = ImageDataGenerator(rescale=1./255)\n",
        "\n",
        "test_generator = test_datagen.flow_from_dataframe(\n",
        "    test_df,\n",
        "    x_col='full_path',\n",
        "    y_col='label',\n",
        "    target_size=img_size,\n",
        "    class_mode=None,\n",
        "    shuffle=False,\n",
        "    batch_size=batch_size\n",
        ")\n",
        "\n",
        "#Predicting Using the Current Model in Memory\n",
        "test_probs = model.predict(test_generator, verbose=1)\n",
        "test_preds = (test_probs > 0.5).astype(int).flatten()\n",
        "\n",
        "#Save to Submission File\n",
        "submission = test_df[['image_id']].copy()\n",
        "submission['label'] = test_preds\n",
        "submission.to_csv(\"submission.csv\", index=False)"
      ],
      "metadata": {
        "trusted": true,
        "execution": {
          "iopub.status.busy": "2025-05-24T22:30:16.385321Z",
          "iopub.execute_input": "2025-05-24T22:30:16.385684Z",
          "iopub.status.idle": "2025-05-24T22:30:33.879883Z",
          "shell.execute_reply.started": "2025-05-24T22:30:16.385661Z",
          "shell.execute_reply": "2025-05-24T22:30:33.879101Z"
        },
        "id": "q_ETbuzlxkh_"
      },
      "outputs": [],
      "execution_count": null
    },
    {
      "cell_type": "code",
      "source": [
        "print(\"Submission saved! Shape:\", submission.shape)\n",
        "print(submission.head())"
      ],
      "metadata": {
        "trusted": true,
        "execution": {
          "iopub.status.busy": "2025-05-24T22:30:36.371942Z",
          "iopub.execute_input": "2025-05-24T22:30:36.372353Z",
          "iopub.status.idle": "2025-05-24T22:30:36.380782Z",
          "shell.execute_reply.started": "2025-05-24T22:30:36.372324Z",
          "shell.execute_reply": "2025-05-24T22:30:36.379597Z"
        },
        "id": "N3czpg0UxkiA"
      },
      "outputs": [],
      "execution_count": null
    }
  ]
}