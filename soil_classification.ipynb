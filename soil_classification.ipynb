{
  "metadata": {
    "kernelspec": {
      "language": "python",
      "display_name": "Python 3",
      "name": "python3"
    },
    "language_info": {
      "name": "python",
      "version": "3.11.11",
      "mimetype": "text/x-python",
      "codemirror_mode": {
        "name": "ipython",
        "version": 3
      },
      "pygments_lexer": "ipython3",
      "nbconvert_exporter": "python",
      "file_extension": ".py"
    },
    "kaggle": {
      "accelerator": "none",
      "dataSources": [
        {
          "sourceId": 102672,
          "databundleVersionId": 12375409,
          "sourceType": "competition"
        }
      ],
      "dockerImageVersionId": 31040,
      "isInternetEnabled": false,
      "language": "python",
      "sourceType": "notebook",
      "isGpuEnabled": false
    },
    "colab": {
      "name": "soil_classification",
      "provenance": [],
      "include_colab_link": true
    }
  },
  "nbformat_minor": 0,
  "nbformat": 4,
  "cells": [
    {
      "cell_type": "markdown",
      "metadata": {
        "id": "view-in-github",
        "colab_type": "text"
      },
      "source": [
        "<a href=\"https://colab.research.google.com/github/riyaaaarane/KJSIT_annam.ai/blob/main/soil_classification.ipynb\" target=\"_parent\"><img src=\"https://colab.research.google.com/assets/colab-badge.svg\" alt=\"Open In Colab\"/></a>"
      ]
    },
    {
      "source": [
        "# IMPORTANT: SOME KAGGLE DATA SOURCES ARE PRIVATE\n",
        "# RUN THIS CELL IN ORDER TO IMPORT YOUR KAGGLE DATA SOURCES.\n",
        "import kagglehub\n",
        "kagglehub.login()\n"
      ],
      "metadata": {
        "id": "Stf1Kj0dQlwC"
      },
      "cell_type": "code",
      "outputs": [],
      "execution_count": null
    },
    {
      "source": [
        "# IMPORTANT: RUN THIS CELL IN ORDER TO IMPORT YOUR KAGGLE DATA SOURCES,\n",
        "# THEN FEEL FREE TO DELETE THIS CELL.\n",
        "# NOTE: THIS NOTEBOOK ENVIRONMENT DIFFERS FROM KAGGLE'S PYTHON\n",
        "# ENVIRONMENT SO THERE MAY BE MISSING LIBRARIES USED BY YOUR\n",
        "# NOTEBOOK.\n",
        "\n",
        "soil_classification_path = kagglehub.competition_download('soil-classification')\n",
        "\n",
        "print('Data source import complete.')\n"
      ],
      "metadata": {
        "id": "RJPkBKiYQlwD"
      },
      "cell_type": "code",
      "outputs": [],
      "execution_count": null
    },
    {
      "cell_type": "code",
      "source": [
        "# This Python 3 environment comes with many helpful analytics libraries installed\n",
        "# It is defined by the kaggle/python Docker image: https://github.com/kaggle/docker-python\n",
        "# For example, here's several helpful packages to load\n",
        "\n",
        "import numpy as np # linear algebra\n",
        "import pandas as pd # data processing, CSV file I/O (e.g. pd.read_csv)\n",
        "\n",
        "# Input data files are available in the read-only \"../input/\" directory\n",
        "# For example, running this (by clicking run or pressing Shift+Enter) will list all files under the input directory\n",
        "\n",
        "import os\n",
        "for dirname, _, filenames in os.walk('/kaggle/input/soil-classification/soil_classification-2025/test'):\n",
        "    for filename in filenames:\n",
        "        print(os.path.join(dirname, filename))\n",
        "\n",
        "# You can write up to 20GB to the current directory (/kaggle/working/) that gets preserved as output when you create a version using \"Save & Run All\"\n",
        "# You can also write temporary files to /kaggle/temp/, but they won't be saved outside of the current session"
      ],
      "metadata": {
        "_uuid": "8f2839f25d086af736a60e9eeb907d3b93b6e0e5",
        "_cell_guid": "b1076dfc-b9ad-4769-8c92-a6c4dae69d19",
        "trusted": true,
        "execution": {
          "iopub.status.busy": "2025-05-24T18:25:24.156377Z",
          "iopub.execute_input": "2025-05-24T18:25:24.156823Z",
          "iopub.status.idle": "2025-05-24T18:25:24.365678Z",
          "shell.execute_reply.started": "2025-05-24T18:25:24.156799Z",
          "shell.execute_reply": "2025-05-24T18:25:24.364462Z"
        },
        "id": "brAl7xzBQlwE"
      },
      "outputs": [],
      "execution_count": null
    },
    {
      "cell_type": "code",
      "source": [
        "# Importing all the libraries\n",
        "import os\n",
        "import numpy as np\n",
        "import pandas as pd\n",
        "import matplotlib.pyplot as plt\n",
        "from sklearn.metrics import classification_report\n",
        "from sklearn.utils.class_weight import compute_class_weight\n",
        "from sklearn.model_selection import train_test_split\n",
        "from tensorflow.keras.preprocessing.image import ImageDataGenerator\n",
        "from tensorflow.keras.models import Sequential\n",
        "from tensorflow.keras.layers import Conv2D, MaxPooling2D, Flatten, Dense, Dropout\n",
        "from tensorflow.keras.optimizers import Adam\n",
        "from tensorflow.keras.callbacks import EarlyStopping"
      ],
      "metadata": {
        "trusted": true,
        "execution": {
          "iopub.status.busy": "2025-05-24T18:25:24.367245Z",
          "iopub.execute_input": "2025-05-24T18:25:24.367545Z",
          "iopub.status.idle": "2025-05-24T18:25:24.373482Z",
          "shell.execute_reply.started": "2025-05-24T18:25:24.367515Z",
          "shell.execute_reply": "2025-05-24T18:25:24.37251Z"
        },
        "id": "1mcMowfdQlwF"
      },
      "outputs": [],
      "execution_count": null
    },
    {
      "cell_type": "markdown",
      "source": [
        "**LOADING AND DATA PREPROCESSING**"
      ],
      "metadata": {
        "id": "VaH_Am6PQlwG"
      }
    },
    {
      "cell_type": "code",
      "source": [
        "# Load labels\n",
        "label_df = pd.read_csv(\"/kaggle/input/soil-classification/soil_classification-2025/train_labels.csv\")"
      ],
      "metadata": {
        "trusted": true,
        "execution": {
          "iopub.status.busy": "2025-05-24T18:25:24.37447Z",
          "iopub.execute_input": "2025-05-24T18:25:24.374917Z",
          "iopub.status.idle": "2025-05-24T18:25:24.397769Z",
          "shell.execute_reply.started": "2025-05-24T18:25:24.374887Z",
          "shell.execute_reply": "2025-05-24T18:25:24.396642Z"
        },
        "id": "M08h1KmoQlwH"
      },
      "outputs": [],
      "execution_count": null
    },
    {
      "cell_type": "code",
      "source": [
        "# Checking unique soil types\n",
        "print(\"Unique soil types:\", label_df['soil_type'].unique())\n",
        "\n",
        "# To label the possible classification\n",
        "label_mapping = {\n",
        "    'Clay soil': 0,\n",
        "    'Red soil': 1,\n",
        "    'Alluvial soil': 2,\n",
        "    'Black Soil': 3\n",
        "}\n",
        "\n",
        "label_df = label_df[label_df['soil_type'].isin(label_mapping.keys())]\n",
        "label_df['label'] = label_df['soil_type'].map(label_mapping).astype(str)"
      ],
      "metadata": {
        "trusted": true,
        "execution": {
          "iopub.status.busy": "2025-05-24T18:25:24.398548Z",
          "iopub.execute_input": "2025-05-24T18:25:24.398848Z",
          "iopub.status.idle": "2025-05-24T18:25:24.414465Z",
          "shell.execute_reply.started": "2025-05-24T18:25:24.398828Z",
          "shell.execute_reply": "2025-05-24T18:25:24.413479Z"
        },
        "id": "zxBJ01rKQlwI"
      },
      "outputs": [],
      "execution_count": null
    },
    {
      "cell_type": "code",
      "source": [
        "# Image directory\n",
        "train_img_dir = \"/kaggle/input/soil-classification/soil_classification-2025/train/\"\n",
        "\n",
        "# Train-val split\n",
        "train_df, val_df = train_test_split(label_df, test_size=0.2, stratify=label_df['label'], random_state=42)"
      ],
      "metadata": {
        "trusted": true,
        "execution": {
          "iopub.status.busy": "2025-05-24T18:25:24.416949Z",
          "iopub.execute_input": "2025-05-24T18:25:24.417228Z",
          "iopub.status.idle": "2025-05-24T18:25:24.440959Z",
          "shell.execute_reply.started": "2025-05-24T18:25:24.417207Z",
          "shell.execute_reply": "2025-05-24T18:25:24.440005Z"
        },
        "id": "wtFH_FSrQlwJ"
      },
      "outputs": [],
      "execution_count": null
    },
    {
      "cell_type": "code",
      "source": [
        "# Class weights to handle imbalance\n",
        "class_weights_array = compute_class_weight(\n",
        "    class_weight='balanced',\n",
        "    classes=np.unique(train_df['label']),\n",
        "    y=train_df['label']\n",
        ")\n",
        "class_weights = dict(enumerate(class_weights_array))\n",
        "print(\"Class Weights:\", class_weights)"
      ],
      "metadata": {
        "trusted": true,
        "execution": {
          "iopub.status.busy": "2025-05-24T18:25:24.441928Z",
          "iopub.execute_input": "2025-05-24T18:25:24.442283Z",
          "iopub.status.idle": "2025-05-24T18:25:24.463673Z",
          "shell.execute_reply.started": "2025-05-24T18:25:24.442249Z",
          "shell.execute_reply": "2025-05-24T18:25:24.462652Z"
        },
        "id": "lAm1Gg05QlwJ"
      },
      "outputs": [],
      "execution_count": null
    },
    {
      "cell_type": "markdown",
      "source": [
        "**IMAGE PREPROCESSING WITH DATA AUGMENTATION**"
      ],
      "metadata": {
        "id": "CmSXvxgfQlwJ"
      }
    },
    {
      "cell_type": "code",
      "source": [
        "# Data generators\n",
        "img_size = (224, 224)\n",
        "batch_size = 32\n",
        "\n",
        "train_datagen = ImageDataGenerator(\n",
        "    rescale=1./255,\n",
        "    rotation_range=20,\n",
        "    width_shift_range=0.1,\n",
        "    height_shift_range=0.1,\n",
        "    shear_range=0.2,\n",
        "    zoom_range=0.3,\n",
        "    horizontal_flip=True,\n",
        "    brightness_range=[0.8, 1.2],\n",
        "    fill_mode='nearest'\n",
        ")\n",
        "\n",
        "val_datagen = ImageDataGenerator(rescale=1./255)\n",
        "\n",
        "train_generator = train_datagen.flow_from_dataframe(\n",
        "    train_df,\n",
        "    directory=train_img_dir,\n",
        "    x_col='image_id',\n",
        "    y_col='label',\n",
        "    target_size=img_size,\n",
        "    class_mode='sparse',\n",
        "    batch_size=batch_size,\n",
        "    shuffle=True\n",
        ")\n",
        "\n",
        "val_generator = val_datagen.flow_from_dataframe(\n",
        "    val_df,\n",
        "    directory=train_img_dir,\n",
        "    x_col='image_id',\n",
        "    y_col='label',\n",
        "    target_size=img_size,\n",
        "    class_mode='sparse',\n",
        "    batch_size=batch_size,\n",
        "    shuffle=False\n",
        ")\n"
      ],
      "metadata": {
        "trusted": true,
        "execution": {
          "iopub.status.busy": "2025-05-24T18:25:24.46464Z",
          "iopub.execute_input": "2025-05-24T18:25:24.464904Z",
          "iopub.status.idle": "2025-05-24T18:25:25.21857Z",
          "shell.execute_reply.started": "2025-05-24T18:25:24.464884Z",
          "shell.execute_reply": "2025-05-24T18:25:25.21746Z"
        },
        "id": "KPXJJN-KQlwK"
      },
      "outputs": [],
      "execution_count": null
    },
    {
      "cell_type": "markdown",
      "source": [
        "**CNN MODEL**"
      ],
      "metadata": {
        "id": "twLkJVZaQlwK"
      }
    },
    {
      "cell_type": "code",
      "source": [
        "# CNN model\n",
        "model = Sequential([\n",
        "    Conv2D(32, (3, 3), activation='relu', input_shape=(224, 224, 3)),\n",
        "    MaxPooling2D(2, 2),\n",
        "    Conv2D(64, (3, 3), activation='relu'),\n",
        "    MaxPooling2D(2, 2),\n",
        "    Flatten(),\n",
        "    Dense(128, activation='relu'),\n",
        "    Dropout(0.5),\n",
        "    Dense(4, activation='softmax')\n",
        "])\n",
        "\n",
        "model.compile(optimizer=Adam(), loss='sparse_categorical_crossentropy', metrics=['accuracy'])"
      ],
      "metadata": {
        "trusted": true,
        "execution": {
          "iopub.status.busy": "2025-05-24T18:25:25.21935Z",
          "iopub.execute_input": "2025-05-24T18:25:25.22015Z",
          "iopub.status.idle": "2025-05-24T18:25:25.431168Z",
          "shell.execute_reply.started": "2025-05-24T18:25:25.22011Z",
          "shell.execute_reply": "2025-05-24T18:25:25.430187Z"
        },
        "id": "XFz-DPgWQlwK"
      },
      "outputs": [],
      "execution_count": null
    },
    {
      "cell_type": "code",
      "source": [
        "# Training the CNN model\n",
        "early_stop = EarlyStopping(patience=3, restore_best_weights=True)\n",
        "\n",
        "history = model.fit(\n",
        "    train_generator,\n",
        "    validation_data=val_generator,\n",
        "    epochs=10,\n",
        "    class_weight=class_weights,\n",
        "    callbacks=[early_stop]\n",
        ")"
      ],
      "metadata": {
        "trusted": true,
        "execution": {
          "iopub.status.busy": "2025-05-24T18:25:25.432376Z",
          "iopub.execute_input": "2025-05-24T18:25:25.432784Z",
          "iopub.status.idle": "2025-05-24T18:34:43.580618Z",
          "shell.execute_reply.started": "2025-05-24T18:25:25.432724Z",
          "shell.execute_reply": "2025-05-24T18:34:43.579332Z"
        },
        "id": "Q4eQfUdrQlwL"
      },
      "outputs": [],
      "execution_count": null
    },
    {
      "cell_type": "markdown",
      "source": [
        "**PREDICTIONS**"
      ],
      "metadata": {
        "id": "f2JnqghYQlwL"
      }
    },
    {
      "cell_type": "code",
      "source": [
        "# Predicting on validation set\n",
        "val_preds = model.predict(val_generator, verbose=1)\n",
        "y_pred = np.argmax(val_preds, axis=1)\n",
        "y_true = val_generator.classes"
      ],
      "metadata": {
        "trusted": true,
        "execution": {
          "iopub.status.busy": "2025-05-24T18:34:43.581885Z",
          "iopub.execute_input": "2025-05-24T18:34:43.582188Z",
          "iopub.status.idle": "2025-05-24T18:34:49.238699Z",
          "shell.execute_reply.started": "2025-05-24T18:34:43.582166Z",
          "shell.execute_reply": "2025-05-24T18:34:49.237716Z"
        },
        "id": "MIy-XPx7QlwL"
      },
      "outputs": [],
      "execution_count": null
    },
    {
      "cell_type": "code",
      "source": [
        "# Evaluation of the model\n",
        "target_names = ['Clay soil', 'Red soil', 'Alluvial soil', 'Black Soil']\n",
        "report = classification_report(\n",
        "    y_true, y_pred,\n",
        "    target_names=target_names,\n",
        "    output_dict=True,\n",
        "    zero_division=0\n",
        ")\n",
        "\n",
        "f1_scores = [report[name]['f1-score'] for name in target_names]\n",
        "print(\"F1 scores per class:\", f1_scores)\n",
        "print(\"Minimum F1-score:\", min(f1_scores))"
      ],
      "metadata": {
        "trusted": true,
        "execution": {
          "iopub.status.busy": "2025-05-24T18:34:49.23969Z",
          "iopub.execute_input": "2025-05-24T18:34:49.240022Z",
          "iopub.status.idle": "2025-05-24T18:34:49.25669Z",
          "shell.execute_reply.started": "2025-05-24T18:34:49.239998Z",
          "shell.execute_reply": "2025-05-24T18:34:49.255687Z"
        },
        "id": "8InyVCgPQlwM"
      },
      "outputs": [],
      "execution_count": null
    },
    {
      "cell_type": "code",
      "source": [
        "# Output analysis\n",
        "from sklearn.metrics import confusion_matrix, ConfusionMatrixDisplay, f1_score\n",
        "import matplotlib.pyplot as plt\n",
        "\n",
        "target_names = ['Clay soil', 'Red soil', 'Alluvial soil', 'Black Soil']\n",
        "\n",
        "# Compute confusion matrix\n",
        "cm = confusion_matrix(y_true, y_pred)\n",
        "\n",
        "disp = ConfusionMatrixDisplay(confusion_matrix=cm, display_labels=target_names)\n",
        "fig, ax = plt.subplots(figsize=(6, 6))\n",
        "disp.plot(ax=ax, cmap='Blues', colorbar=False)\n",
        "plt.title(\"Validation Confusion Matrix\")\n",
        "plt.show()\n"
      ],
      "metadata": {
        "trusted": true,
        "execution": {
          "iopub.status.busy": "2025-05-24T18:34:49.257633Z",
          "iopub.execute_input": "2025-05-24T18:34:49.257905Z",
          "iopub.status.idle": "2025-05-24T18:34:49.436337Z",
          "shell.execute_reply.started": "2025-05-24T18:34:49.257876Z",
          "shell.execute_reply": "2025-05-24T18:34:49.435331Z"
        },
        "id": "GgGPp8tBQlwM"
      },
      "outputs": [],
      "execution_count": null
    },
    {
      "cell_type": "code",
      "source": [
        "# Creating test ImageDataGenerator like before\n",
        "from tensorflow.keras.preprocessing.image import ImageDataGenerator\n",
        "import pandas as pd\n",
        "import numpy as np\n",
        "import os\n",
        "\n",
        "# Define explicit class index-to-label mapping\n",
        "label_mapping = {\n",
        "    0: 'Clay soil',\n",
        "    1: 'Red soil',\n",
        "    2: 'Alluvial soil',\n",
        "    3: 'Black Soil'\n",
        "}\n",
        "\n",
        "test_df = pd.read_csv(\"/kaggle/input/soil-classification/soil_classification-2025/test_ids.csv\")\n",
        "test_dir = \"/kaggle/input/soil-classification/soil_classification-2025/test\"\n",
        "\n",
        "test_datagen = ImageDataGenerator(rescale=1./255)\n",
        "\n",
        "test_generator = test_datagen.flow_from_dataframe(\n",
        "    dataframe=test_df,\n",
        "    directory=test_dir,\n",
        "    x_col='image_id',\n",
        "    y_col=None,\n",
        "    target_size=(224, 224),\n",
        "    class_mode=None,\n",
        "    batch_size=32,\n",
        "    shuffle=False,\n",
        ")\n",
        "\n",
        "# Predictions on test data\n",
        "test_predictions = model.predict(test_generator)\n",
        "test_pred_classes = np.argmax(test_predictions, axis=1)\n",
        "\n",
        "# Map numeric predictions to soil type names\n",
        "test_pred_soil_types = [label_mapping[i] for i in test_pred_classes]\n",
        "valid_image_ids = [os.path.basename(fname) for fname in test_generator.filenames]\n",
        "valid_df = pd.DataFrame({\n",
        "    'image_id': valid_image_ids,\n",
        "    'soil_type': test_pred_soil_types\n",
        "})\n",
        "\n",
        "# Merge with original test set to preserve full order\n",
        "submission_df = test_df.merge(valid_df, on='image_id', how='left')\n",
        "\n",
        "# Fill any missing predictions with most common label\n",
        "most_common_soil = valid_df['soil_type'].mode()[0]\n",
        "submission_df['soil_type'] = submission_df['soil_type'].fillna(most_common_soil)\n",
        "submission_df['soil_type'] = submission_df['soil_type'].astype(str)\n",
        "\n",
        "submission_df.to_csv(\"submission.csv\", index=False)\n",
        "print(\"Submission saved, Shape:\", submission_df.shape)\n"
      ],
      "metadata": {
        "trusted": true,
        "execution": {
          "iopub.status.busy": "2025-05-24T18:34:49.437355Z",
          "iopub.execute_input": "2025-05-24T18:34:49.438015Z",
          "iopub.status.idle": "2025-05-24T18:34:55.246196Z",
          "shell.execute_reply.started": "2025-05-24T18:34:49.437986Z",
          "shell.execute_reply": "2025-05-24T18:34:55.245132Z"
        },
        "id": "-egysVDpQlwM"
      },
      "outputs": [],
      "execution_count": null
    },
    {
      "cell_type": "code",
      "source": [
        "print(submission_df.head())\n"
      ],
      "metadata": {
        "trusted": true,
        "execution": {
          "iopub.status.busy": "2025-05-24T18:34:55.249231Z",
          "iopub.execute_input": "2025-05-24T18:34:55.249573Z",
          "iopub.status.idle": "2025-05-24T18:34:55.256365Z",
          "shell.execute_reply.started": "2025-05-24T18:34:55.24955Z",
          "shell.execute_reply": "2025-05-24T18:34:55.255255Z"
        },
        "id": "h97GnFXoQlwM"
      },
      "outputs": [],
      "execution_count": null
    },
    {
      "cell_type": "code",
      "source": [
        "submission_df.to_csv(\"submission.csv\", index=False)\n",
        "\n"
      ],
      "metadata": {
        "trusted": true,
        "execution": {
          "iopub.status.busy": "2025-05-24T18:35:42.170382Z",
          "iopub.execute_input": "2025-05-24T18:35:42.170781Z",
          "iopub.status.idle": "2025-05-24T18:35:42.17781Z",
          "shell.execute_reply.started": "2025-05-24T18:35:42.17075Z",
          "shell.execute_reply": "2025-05-24T18:35:42.176822Z"
        },
        "id": "adzWJNCqQlwM"
      },
      "outputs": [],
      "execution_count": null
    }
  ]
}
